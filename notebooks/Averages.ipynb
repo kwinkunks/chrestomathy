{
 "cells": [
  {
   "cell_type": "markdown",
   "id": "17f8199f-06f4-448d-88df-feab494f71df",
   "metadata": {},
   "source": [
    "# Averages\n",
    "\n",
    "I used to have all this written down, mostly for myself, on subsurfwiki.org, but I don't maintain that site any more, so here it is, less complete and probably less well done, ha.\n",
    "\n",
    "**Note.** I learned about the expression of means as \"some loss\" minimization from the statistician **Tommy Odland** at Equinor's developer conference in 2024. His talks are reliably awesome, you should check them out. [Here's the one about averages.](https://tommyodland.com/articles/2024/the-average-value/)\n",
    "\n",
    "**More!** For an extensive list of averages, see the Wikipedia article on [Average](https://en.wikipedia.org/wiki/Average).\n",
    "\n",
    "---\n",
    "\n",
    "There are a lot of ways to measure the 'centre' of a distribution, some linear, some nonlinear.\n",
    "\n",
    "We'll get at them with pure Python and/or with NumPy or SciPy. But nothing too fancy."
   ]
  },
  {
   "cell_type": "code",
   "execution_count": 75,
   "id": "46af5e2a-8dab-4608-9d07-686b24fdb7fa",
   "metadata": {},
   "outputs": [],
   "source": [
    "import numpy as np\n",
    "\n",
    "x = np.array([-3, -1, 0, 0, 1, 1, 1, 2, 2, 2, 2, 2, 3, 5, 100])"
   ]
  },
  {
   "cell_type": "markdown",
   "id": "87226208-0b98-4ece-8708-6667a4dcfe63",
   "metadata": {},
   "source": [
    "---\n",
    "\n",
    "## Pythagorean means\n",
    "\n",
    "We stsart with the famous [Pythagorean means](https://en.wikipedia.org/wiki/Pythagorean_means), for which A &ge; G &ge; H. \n",
    "\n",
    "### Arithmetic mean, aka 'the average' or 'the mean'\n",
    "\n",
    "$$ \\mu = \\frac{1}{N} \\sum_{i=0}^{N} x_i $$"
   ]
  },
  {
   "cell_type": "code",
   "execution_count": 71,
   "id": "544c4e3f-548f-4cb5-8c7d-972731b16a31",
   "metadata": {},
   "outputs": [
    {
     "data": {
      "text/plain": [
       "np.float64(7.8)"
      ]
     },
     "execution_count": 71,
     "metadata": {},
     "output_type": "execute_result"
    }
   ],
   "source": [
    "μ = sum(x) / len(x)\n",
    "μ"
   ]
  },
  {
   "cell_type": "code",
   "execution_count": 72,
   "id": "510ae641-08f8-410e-bbe0-bddc597b67dd",
   "metadata": {},
   "outputs": [
    {
     "data": {
      "text/plain": [
       "np.float64(7.8)"
      ]
     },
     "execution_count": 72,
     "metadata": {},
     "output_type": "execute_result"
    }
   ],
   "source": [
    "np.mean(x)"
   ]
  },
  {
   "cell_type": "markdown",
   "id": "3a6859c2-fa30-41e4-9b9a-69e44c1c67c4",
   "metadata": {},
   "source": [
    "This function is also available as a method on an array:"
   ]
  },
  {
   "cell_type": "code",
   "execution_count": 73,
   "id": "8be5fb57-80c2-48d5-967a-a5b3a864721d",
   "metadata": {},
   "outputs": [
    {
     "data": {
      "text/plain": [
       "np.float64(7.8)"
      ]
     },
     "execution_count": 73,
     "metadata": {},
     "output_type": "execute_result"
    }
   ],
   "source": [
    "x.mean()"
   ]
  },
  {
   "cell_type": "markdown",
   "id": "f93969ab-0270-4b28-ab73-5cb9b552f039",
   "metadata": {},
   "source": [
    "We can also compute the mean of the positive values only:"
   ]
  },
  {
   "cell_type": "code",
   "execution_count": 74,
   "id": "924b08d3-a425-4938-a7ad-3c38cfef29ef",
   "metadata": {},
   "outputs": [
    {
     "data": {
      "text/plain": [
       "np.float64(11.0)"
      ]
     },
     "execution_count": 74,
     "metadata": {},
     "output_type": "execute_result"
    }
   ],
   "source": [
    "np.mean(x[x > 0])"
   ]
  },
  {
   "cell_type": "markdown",
   "id": "4d0f3558-d8bd-4665-a0e9-a4e27eb24477",
   "metadata": {},
   "source": [
    "### The mean minimizes the L2 norm\n",
    "\n",
    "Again, this insight is from Tommy Odland, thanks to him.\n",
    "\n",
    "We can arrive at several of these means via a minimization problem. In the case of the arithmetic mean, we can minimize the Euclidean distance (aka L2 norm, or 'crow flies' distance) from the data to some candidate mean. The mimimum is the arithmetic mean.\n",
    "\n",
    "(Later on we will see that choosing other distances or norms results in other means.)\n",
    "\n",
    "I'll use `scipy.optimize.minimize` to solve the problem, but we could use gradient descent or some other method."
   ]
  },
  {
   "cell_type": "code",
   "execution_count": 120,
   "id": "db624196-2987-4ec1-b9f2-8085e0bc9b41",
   "metadata": {},
   "outputs": [
    {
     "data": {
      "text/plain": [
       "array([7.80000438])"
      ]
     },
     "execution_count": 120,
     "metadata": {},
     "output_type": "execute_result"
    }
   ],
   "source": [
    "from scipy.optimize import minimize\n",
    "\n",
    "L2 = lambda μ: np.linalg.norm(x - μ, ord=2)\n",
    "\n",
    "rng = np.random.default_rng(42)\n",
    "μ0 = rng.random()  # Initial guess is random.\n",
    "\n",
    "minimize(L2, μ0).x"
   ]
  },
  {
   "cell_type": "markdown",
   "id": "9579b096-9ebf-421a-835d-870ebb232d8d",
   "metadata": {},
   "source": [
    "### Geometric mean\n",
    "\n",
    "$$  \\sqrt[n]{a_1 a_2 \\cdots a_n \\vphantom{t}} $$\n",
    "\n",
    "Strictly undefined for datasets containing negative numbers or zeros."
   ]
  },
  {
   "cell_type": "code",
   "execution_count": 99,
   "id": "0666178d-a679-4dfe-9713-93f7d535ddd4",
   "metadata": {},
   "outputs": [
    {
     "data": {
      "text/plain": [
       "np.float64(0.0)"
      ]
     },
     "execution_count": 99,
     "metadata": {},
     "output_type": "execute_result"
    }
   ],
   "source": [
    "from functools import reduce\n",
    "from operator import mul\n",
    "\n",
    "reduce(mul, x)**(1/len(x))"
   ]
  },
  {
   "cell_type": "markdown",
   "id": "c16eb235-9456-49dc-bee4-986710b5a152",
   "metadata": {},
   "source": [
    "Let's remove the non-positive numbers."
   ]
  },
  {
   "cell_type": "code",
   "execution_count": 100,
   "id": "2e34c3dc-f62c-4930-99bf-c7d633e49394",
   "metadata": {},
   "outputs": [
    {
     "data": {
      "text/plain": [
       "np.float64(2.664203443021162)"
      ]
     },
     "execution_count": 100,
     "metadata": {},
     "output_type": "execute_result"
    }
   ],
   "source": [
    "x_ = x[x > 0]\n",
    "reduce(mul, x_)**(1/len(x_))"
   ]
  },
  {
   "cell_type": "markdown",
   "id": "4ebeb51e-c330-4e5d-bffc-e73138063549",
   "metadata": {},
   "source": [
    "And with `scipy.stats`:"
   ]
  },
  {
   "cell_type": "code",
   "execution_count": 78,
   "id": "cf902a5c-1418-4144-a31e-f9422fcb53f4",
   "metadata": {},
   "outputs": [
    {
     "data": {
      "text/plain": [
       "np.float64(nan)"
      ]
     },
     "execution_count": 78,
     "metadata": {},
     "output_type": "execute_result"
    }
   ],
   "source": [
    "from scipy.stats import gmean\n",
    "\n",
    "gmean(x)"
   ]
  },
  {
   "cell_type": "markdown",
   "id": "78a914f5-14d1-4fcb-bb76-3e32b373edef",
   "metadata": {},
   "source": [
    "Again, we can compute it for the positive values though:"
   ]
  },
  {
   "cell_type": "code",
   "execution_count": 79,
   "id": "d5d714d1-788a-4a2d-b2c1-372e2f30c104",
   "metadata": {},
   "outputs": [
    {
     "data": {
      "text/plain": [
       "np.float64(2.664203443021162)"
      ]
     },
     "execution_count": 79,
     "metadata": {},
     "output_type": "execute_result"
    }
   ],
   "source": [
    "gmean(x_)"
   ]
  },
  {
   "cell_type": "markdown",
   "id": "26053f7c-9fef-43f3-ac21-44d8d8c9b652",
   "metadata": {},
   "source": [
    "### The geometric average minimizes multiplicative loss"
   ]
  },
  {
   "cell_type": "code",
   "execution_count": 131,
   "id": "7d8e9514-7973-451f-9f84-d4b5dce9bc77",
   "metadata": {},
   "outputs": [
    {
     "data": {
      "text/plain": [
       "  message: Optimization terminated successfully.\n",
       "  success: True\n",
       "   status: 0\n",
       "      fun: 16.84474243908292\n",
       "        x: [ 2.664e+00]\n",
       "      nit: 8\n",
       "      jac: [-4.768e-07]\n",
       " hess_inv: [[ 3.223e-01]]\n",
       "     nfev: 18\n",
       "     njev: 9"
      ]
     },
     "execution_count": 131,
     "metadata": {},
     "output_type": "execute_result"
    }
   ],
   "source": [
    "def mult_loss(μ):\n",
    "    return sum((np.log(x_) - np.log(μ))**2)\n",
    "    \n",
    "μ0 = rng.random()\n",
    "\n",
    "minimize(mult_loss, μ0)"
   ]
  },
  {
   "cell_type": "markdown",
   "id": "2b490d68-261c-4a70-833a-9c58a79cd923",
   "metadata": {},
   "source": [
    "### Harmonic mean\n",
    "\n",
    "$$ \\textrm{HM} \\left( x_1,\\; \\ldots,\\; x_n \\right) = \\frac{n}{ \\frac{1}{x_1} + \\;\\cdots\\; + \\frac{1}{x_n}}  $$\n",
    "\n",
    "Like the geometric mean, it is undefined for datasets containing negative numbers or zeros."
   ]
  },
  {
   "cell_type": "code",
   "execution_count": 97,
   "id": "f7fd3c10-6658-489b-94c0-6643f548e499",
   "metadata": {},
   "outputs": [
    {
     "name": "stderr",
     "output_type": "stream",
     "text": [
      "/tmp/ipykernel_2793850/1809065445.py:1: RuntimeWarning: divide by zero encountered in scalar divide\n",
      "  len(x) / sum(1/xi for xi in x)\n"
     ]
    },
    {
     "data": {
      "text/plain": [
       "np.float64(0.0)"
      ]
     },
     "execution_count": 97,
     "metadata": {},
     "output_type": "execute_result"
    }
   ],
   "source": [
    "len(x) / sum(1/xi for xi in x)"
   ]
  },
  {
   "cell_type": "markdown",
   "id": "b5745ed4-2dab-4f37-87fb-1993bb077571",
   "metadata": {},
   "source": [
    "Let's use the positive-only version of `x`:"
   ]
  },
  {
   "cell_type": "code",
   "execution_count": 102,
   "id": "1fb8be2e-d390-449a-bfe2-4953e2ae6581",
   "metadata": {},
   "outputs": [
    {
     "data": {
      "text/plain": [
       "np.float64(1.8201875344732488)"
      ]
     },
     "execution_count": 102,
     "metadata": {},
     "output_type": "execute_result"
    }
   ],
   "source": [
    "len(x_) / sum(1/xi for xi in x_)"
   ]
  },
  {
   "cell_type": "markdown",
   "id": "d71a7d89-a2b9-4b93-bc03-324421ba97bb",
   "metadata": {},
   "source": [
    "And with `scipy`:"
   ]
  },
  {
   "cell_type": "code",
   "execution_count": 103,
   "id": "c96d1064-2ae9-4a10-9acf-2ebd94985a76",
   "metadata": {},
   "outputs": [
    {
     "data": {
      "text/plain": [
       "np.float64(1.820187534473249)"
      ]
     },
     "execution_count": 103,
     "metadata": {},
     "output_type": "execute_result"
    }
   ],
   "source": [
    "hmean(x_)"
   ]
  },
  {
   "cell_type": "markdown",
   "id": "2792c293-d3a0-45ff-a653-c969432ac7ff",
   "metadata": {},
   "source": [
    "### The harmonic average minimizes relative loss"
   ]
  },
  {
   "cell_type": "code",
   "execution_count": 145,
   "id": "8d346b77-e1a7-43cf-bcf1-f17eae966cb6",
   "metadata": {},
   "outputs": [
    {
     "data": {
      "text/plain": [
       "  message: Optimization terminated successfully.\n",
       "  success: True\n",
       "   status: 0\n",
       "      fun: 100.9779371207944\n",
       "        x: [ 1.820e+00]\n",
       "      nit: 2\n",
       "      jac: [-9.537e-07]\n",
       " hess_inv: [[ 8.274e-02]]\n",
       "     nfev: 6\n",
       "     njev: 3"
      ]
     },
     "execution_count": 145,
     "metadata": {},
     "output_type": "execute_result"
    }
   ],
   "source": [
    "def relative_loss(μ):\n",
    "    return sum((1 / x_) * (x_ - μ)**2)\n",
    "    \n",
    "μ0 = rng.random()\n",
    "\n",
    "minimize(relative_loss, μ0)"
   ]
  },
  {
   "cell_type": "markdown",
   "id": "bea46de7-83ae-4862-b5da-d9ae6500d863",
   "metadata": {},
   "source": [
    "---\n",
    "\n",
    "## Contraharmonic mean"
   ]
  },
  {
   "cell_type": "code",
   "execution_count": 149,
   "id": "049d893f-a76c-4a58-b503-cc9eeaad62cb",
   "metadata": {},
   "outputs": [
    {
     "data": {
      "text/plain": [
       "np.float64(86.04273504273505)"
      ]
     },
     "execution_count": 149,
     "metadata": {},
     "output_type": "execute_result"
    }
   ],
   "source": [
    "sum(xi**2 for xi in x) / sum(x)"
   ]
  },
  {
   "cell_type": "markdown",
   "id": "6ddc82db-f5ae-427a-af3f-6e5534f13ee7",
   "metadata": {},
   "source": [
    "Expressed as an optimization problem:"
   ]
  },
  {
   "cell_type": "code",
   "execution_count": 148,
   "id": "f805e1b1-b975-4a67-8020-a72e8a9293c3",
   "metadata": {},
   "outputs": [
    {
     "data": {
      "text/plain": [
       "  message: Optimization terminated successfully.\n",
       "  success: True\n",
       "   status: 0\n",
       "      fun: 133974.78632478724\n",
       "        x: [ 8.604e+01]\n",
       "      nit: 3\n",
       "      jac: [ 0.000e+00]\n",
       " hess_inv: [[ 4.274e-03]]\n",
       "     nfev: 12\n",
       "     njev: 6"
      ]
     },
     "execution_count": 148,
     "metadata": {},
     "output_type": "execute_result"
    }
   ],
   "source": [
    "def loss(μ):\n",
    "    return sum(x * (x - μ)**2)\n",
    "\n",
    "μ0 = rng.random()\n",
    "\n",
    "minimize(loss, μ0)"
   ]
  },
  {
   "cell_type": "markdown",
   "id": "de43cacb-ba27-413f-84b3-fcc257db3b1b",
   "metadata": {},
   "source": [
    "---\n",
    "\n",
    "## Median\n",
    "\n",
    "The median is the central number in a sorted list, or the mean of the 2 central numbers."
   ]
  },
  {
   "cell_type": "code",
   "execution_count": 17,
   "id": "ffd3950b-dc9a-4f5f-83a0-6e09bafaf57e",
   "metadata": {},
   "outputs": [
    {
     "data": {
      "text/plain": [
       "np.float64(2.0)"
      ]
     },
     "execution_count": 17,
     "metadata": {},
     "output_type": "execute_result"
    }
   ],
   "source": [
    "np.median(x)"
   ]
  },
  {
   "cell_type": "markdown",
   "id": "eab3043b-5e55-4320-876c-68f8433567da",
   "metadata": {},
   "source": [
    "It may or may not be different for the positive-only array; in our case it is the same."
   ]
  },
  {
   "cell_type": "code",
   "execution_count": 105,
   "id": "2118da86-9be4-40a6-a887-3c042736ae39",
   "metadata": {},
   "outputs": [
    {
     "data": {
      "text/plain": [
       "np.float64(2.0)"
      ]
     },
     "execution_count": 105,
     "metadata": {},
     "output_type": "execute_result"
    }
   ],
   "source": [
    "np.median(x_)"
   ]
  },
  {
   "cell_type": "markdown",
   "id": "673b522d-51c4-474d-ad2a-a6b57bb77676",
   "metadata": {},
   "source": [
    "### The median minimizes the L1 norm\n",
    "\n",
    "Remember, this algorithm is not guaranteed to converge on a given problem, especially with its default parameters."
   ]
  },
  {
   "cell_type": "code",
   "execution_count": 113,
   "id": "70da0739-e65a-4a3f-9129-998fdf964d04",
   "metadata": {},
   "outputs": [
    {
     "data": {
      "text/plain": [
       "  message: Desired error not necessarily achieved due to precision loss.\n",
       "  success: False\n",
       "   status: 2\n",
       "      fun: 117.00000001264128\n",
       "        x: [ 2.000e+00]\n",
       "      nit: 2\n",
       "      jac: [ 5.166e-01]\n",
       " hess_inv: [[ 5.683e-01]]\n",
       "     nfev: 204\n",
       "     njev: 96"
      ]
     },
     "execution_count": 113,
     "metadata": {},
     "output_type": "execute_result"
    }
   ],
   "source": [
    "L1 = lambda μ: np.linalg.norm(x - μ, ord=1)\n",
    "\n",
    "μ0 = rng.random()  # Initial guess is random.\n",
    "\n",
    "minimize(L1, μ0)"
   ]
  },
  {
   "cell_type": "markdown",
   "id": "fa8b8eb3-f177-476b-b2b8-14b9b4435a10",
   "metadata": {},
   "source": [
    "---\n",
    "\n",
    "## Mode\n",
    "\n",
    "The value or values with the highest count(s). If non-unique (i.e. the dataset is bi-modal or multi-modal), note that `scipy.stats.mode()` reports the minimum of the modes.\n",
    "\n",
    "Note also, from Wikipedia:\n",
    "\n",
    "> If X is a discrete random variable, the mode is the value x at which the probability mass function takes its maximum value. In other words, it is the value that is most likely to be sampled [sometimes called \"most likely\"]."
   ]
  },
  {
   "cell_type": "code",
   "execution_count": 57,
   "id": "92644650-f905-49e0-aae0-92b2cf86d870",
   "metadata": {},
   "outputs": [
    {
     "data": {
      "text/plain": [
       "ModeResult(mode=np.int64(2), count=np.int64(5))"
      ]
     },
     "execution_count": 57,
     "metadata": {},
     "output_type": "execute_result"
    }
   ],
   "source": [
    "from scipy.stats import mode\n",
    "\n",
    "mode(x)"
   ]
  },
  {
   "cell_type": "markdown",
   "id": "cfb55f16-7751-4a8f-8ade-5bf6e9352d66",
   "metadata": {},
   "source": [
    "### The mode minimizes the L0 norm\n",
    "\n",
    "The L0 norm of an array _a_ is the number of non-zero elements, or `np.count_nonzero(a)`. I need suggestions for a nice way to minimize this for integers. "
   ]
  },
  {
   "cell_type": "markdown",
   "id": "0ba1662f-29ce-4e30-a3a6-e7fb0da03890",
   "metadata": {},
   "source": [
    "---\n",
    "\n",
    "## Quadratic mean, or RMS\n",
    "\n",
    "This is useful for understanding the magnitude of a quantity that can vary above and below zero, when the mean may be close to zero (eg when looking at band-limited data such as audio or seismic). Taking the root casts the value back to the original units."
   ]
  },
  {
   "cell_type": "code",
   "execution_count": 121,
   "id": "e58de129-f9e3-40d4-9c16-8067107ad341",
   "metadata": {},
   "outputs": [
    {
     "data": {
      "text/plain": [
       "25.90624120426067"
      ]
     },
     "execution_count": 121,
     "metadata": {},
     "output_type": "execute_result"
    }
   ],
   "source": [
    "import math\n",
    "\n",
    "math.sqrt(sum(xi**2 for xi in x) / len(x))"
   ]
  },
  {
   "cell_type": "code",
   "execution_count": 123,
   "id": "06619715-113b-4c4d-b09c-4f553a213bad",
   "metadata": {},
   "outputs": [
    {
     "data": {
      "text/plain": [
       "np.float64(25.90624120426067)"
      ]
     },
     "execution_count": 123,
     "metadata": {},
     "output_type": "execute_result"
    }
   ],
   "source": [
    "np.sqrt(np.mean(x**2))"
   ]
  },
  {
   "cell_type": "markdown",
   "id": "607e5c9e-38df-4133-bf5d-3dc39ec2ed50",
   "metadata": {},
   "source": [
    "There is also [`sklearn.metrics.root_mean_squared_error()`](https://scikit-learn.org/stable/modules/generated/sklearn.metrics.root_mean_squared_error.html)."
   ]
  },
  {
   "cell_type": "code",
   "execution_count": 150,
   "id": "ebc2acb8-c453-4bdc-9b00-7eabe7ea680a",
   "metadata": {},
   "outputs": [
    {
     "data": {
      "text/plain": [
       "  message: Optimization terminated successfully.\n",
       "  success: True\n",
       "   status: 0\n",
       "      fun: 93244571.73333335\n",
       "        x: [ 2.591e+01]\n",
       "      nit: 3\n",
       "      jac: [ 0.000e+00]\n",
       " hess_inv: [[ 1.293e-05]]\n",
       "     nfev: 24\n",
       "     njev: 12"
      ]
     },
     "execution_count": 150,
     "metadata": {},
     "output_type": "execute_result"
    }
   ],
   "source": [
    "def loss(μ):\n",
    "    return sum((x**2 - μ**2)**2)\n",
    "\n",
    "μ0 = rng.random()\n",
    "\n",
    "minimize(loss, μ0)"
   ]
  },
  {
   "cell_type": "markdown",
   "id": "35deb977-c6a7-4ff9-97b2-ca883969c16f",
   "metadata": {},
   "source": [
    "---\n",
    "\n",
    "## Trimmed mean\n",
    "\n",
    "We can lose some proportion of the outermost values in the distribution. For example, in the `scipy` implementation, `0.1` means to chop 10% of the values from _each_ end (i.e. 1.5 out of 15 values, which it will round down to 1; to chop 2 values we need a proportion over about 0.14 because 0.14 * 15 = 2.1)."
   ]
  },
  {
   "cell_type": "code",
   "execution_count": 96,
   "id": "e21669bb-7646-4ff5-a41c-ed6a6cd940b0",
   "metadata": {},
   "outputs": [
    {
     "data": {
      "text/plain": [
       "np.float64(1.5384615384615385)"
      ]
     },
     "execution_count": 96,
     "metadata": {},
     "output_type": "execute_result"
    }
   ],
   "source": [
    "from scipy.stats import trim_mean\n",
    "\n",
    "trim_mean(x, 0.1)"
   ]
  },
  {
   "cell_type": "markdown",
   "id": "08f4c8b3-86c1-4ddc-8de9-a721f4660b94",
   "metadata": {},
   "source": [
    "---\n",
    "\n",
    "&copy; Matt Hall 2024 / Licensed CC BY, please re-use this work"
   ]
  }
 ],
 "metadata": {
  "kernelspec": {
   "display_name": "py311",
   "language": "python",
   "name": "py311"
  },
  "language_info": {
   "codemirror_mode": {
    "name": "ipython",
    "version": 3
   },
   "file_extension": ".py",
   "mimetype": "text/x-python",
   "name": "python",
   "nbconvert_exporter": "python",
   "pygments_lexer": "ipython3",
   "version": "3.11.7"
  }
 },
 "nbformat": 4,
 "nbformat_minor": 5
}
