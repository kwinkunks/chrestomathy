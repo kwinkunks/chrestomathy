{
 "cells": [
  {
   "cell_type": "markdown",
   "metadata": {},
   "source": [
    "# Linear regression\n",
    "\n",
    "We'll solve the problem of linear regression in a few different ways:\n",
    "\n",
    "- First we'll use `sklearn` to find the answer we're looking for\n",
    "- Analytic solution for univariate problems\n",
    "- The normal equation of linear algebra\n",
    "- Singular value decomposition (this is what `sklearn` actually uses)\n",
    "- Batch gradient descent\n",
    "- Stochastic gradient descent\n",
    "- Bayesian linear regression: maximum _a posteriori_ (MAP)\n",
    "- Simulated annealing\n",
    "- Differential evolution (with `scipy`)\n",
    "\n",
    "---"
   ]
  },
  {
   "cell_type": "markdown",
   "metadata": {},
   "source": [
    "## Load some data\n",
    "\n",
    "We'll use our 'rocks' data:"
   ]
  },
  {
   "cell_type": "code",
   "execution_count": 3,
   "metadata": {},
   "outputs": [
    {
     "data": {
      "text/html": [
       "<div>\n",
       "<style scoped>\n",
       "    .dataframe tbody tr th:only-of-type {\n",
       "        vertical-align: middle;\n",
       "    }\n",
       "\n",
       "    .dataframe tbody tr th {\n",
       "        vertical-align: top;\n",
       "    }\n",
       "\n",
       "    .dataframe thead th {\n",
       "        text-align: right;\n",
       "    }\n",
       "</style>\n",
       "<table border=\"1\" class=\"dataframe\">\n",
       "  <thead>\n",
       "    <tr style=\"text-align: right;\">\n",
       "      <th></th>\n",
       "      <th>RPC</th>\n",
       "      <th>Description</th>\n",
       "      <th>Lithology</th>\n",
       "      <th>Vp</th>\n",
       "      <th>Vs</th>\n",
       "      <th>Rho</th>\n",
       "    </tr>\n",
       "  </thead>\n",
       "  <tbody>\n",
       "    <tr>\n",
       "      <th>0</th>\n",
       "      <td>104818</td>\n",
       "      <td>KIAMICHI FORMA. 4</td>\n",
       "      <td>sandstone</td>\n",
       "      <td>3045.6</td>\n",
       "      <td>1595.7</td>\n",
       "      <td>2108.0</td>\n",
       "    </tr>\n",
       "    <tr>\n",
       "      <th>1</th>\n",
       "      <td>104893</td>\n",
       "      <td>KIAMICHI REMOLD 3</td>\n",
       "      <td>sandstone</td>\n",
       "      <td>3000.6</td>\n",
       "      <td>1517.1</td>\n",
       "      <td>2126.0</td>\n",
       "    </tr>\n",
       "    <tr>\n",
       "      <th>2</th>\n",
       "      <td>104652</td>\n",
       "      <td>NAVAJO ARCO 2</td>\n",
       "      <td>sandstone</td>\n",
       "      <td>3363.6</td>\n",
       "      <td>2041.5</td>\n",
       "      <td>2162.0</td>\n",
       "    </tr>\n",
       "    <tr>\n",
       "      <th>3</th>\n",
       "      <td>104752</td>\n",
       "      <td>NAVAJO ARCO REMOL 1</td>\n",
       "      <td>sandstone</td>\n",
       "      <td>3195.3</td>\n",
       "      <td>1606.2</td>\n",
       "      <td>2160.0</td>\n",
       "    </tr>\n",
       "    <tr>\n",
       "      <th>4</th>\n",
       "      <td>104598</td>\n",
       "      <td>FERRON 82-3 1677.5</td>\n",
       "      <td>sandstone</td>\n",
       "      <td>4237.5</td>\n",
       "      <td>2448.6</td>\n",
       "      <td>2428.0</td>\n",
       "    </tr>\n",
       "  </tbody>\n",
       "</table>\n",
       "</div>"
      ],
      "text/plain": [
       "      RPC          Description  Lithology      Vp      Vs     Rho\n",
       "0  104818    KIAMICHI FORMA. 4  sandstone  3045.6  1595.7  2108.0\n",
       "1  104893    KIAMICHI REMOLD 3  sandstone  3000.6  1517.1  2126.0\n",
       "2  104652        NAVAJO ARCO 2  sandstone  3363.6  2041.5  2162.0\n",
       "3  104752  NAVAJO ARCO REMOL 1  sandstone  3195.3  1606.2  2160.0\n",
       "4  104598   FERRON 82-3 1677.5  sandstone  4237.5  2448.6  2428.0"
      ]
     },
     "execution_count": 3,
     "metadata": {},
     "output_type": "execute_result"
    }
   ],
   "source": [
    "import pandas as pd\n",
    "\n",
    "df = pd.read_csv('https://raw.githubusercontent.com/scienxlab/datasets/refs/heads/main/rpc/rpc-4-lithologies.csv')\n",
    "\n",
    "df.head()"
   ]
  },
  {
   "cell_type": "markdown",
   "metadata": {},
   "source": [
    "Let's try to predict `Vs` from `Vp`. Later, you can try adding `Rho_n` as another feature to see how you can use these algorithms on multivariate data."
   ]
  },
  {
   "cell_type": "code",
   "execution_count": 2,
   "metadata": {},
   "outputs": [],
   "source": [
    "data = df[['Vp', 'Vs']].values"
   ]
  },
  {
   "cell_type": "markdown",
   "metadata": {
    "tags": [
     "advanced"
    ]
   },
   "source": [
    "<h3>Random data</h3>\n",
    "\n",
    "<p>If you prefer, you can make a dataset from a multivariate normal distribution, so we can control the statistics of the features and target.</p>\n",
    "\n",
    "<b>To do this, run the following code:</b>\n",
    "\n",
    "<pre>\n",
    "import numpy as np\n",
    "\n",
    "num_samples = 100\n",
    "\n",
    "# The desired mean values of the sample.\n",
    "mu = np.array([5.0, 5.0, 10.0])\n",
    "\n",
    "# The desired covariance matrix.\n",
    "r = np.array([\n",
    "        [  2.00,  0.00, -2.00],\n",
    "        [  0.00,  2.00,  2.00],\n",
    "        [ -2.00,  2.00,  4.00]\n",
    "    ])\n",
    "\n",
    "# Generate the random samples.\n",
    "data = np.random.multivariate_normal(mu, r, size=num_samples)\n",
    "</pre>"
   ]
  },
  {
   "cell_type": "markdown",
   "metadata": {},
   "source": [
    "## Make `X` and `y`"
   ]
  },
  {
   "cell_type": "markdown",
   "metadata": {},
   "source": [
    "We can visualize the data:"
   ]
  },
  {
   "cell_type": "code",
   "execution_count": null,
   "metadata": {},
   "outputs": [],
   "source": [
    "import seaborn as sns\n",
    "import pandas as pd\n",
    "\n",
    "df = pd.DataFrame(data, columns=['x', 'y'])\n",
    "\n",
    "sns.scatterplot(data=df, x='x', y='y')"
   ]
  },
  {
   "cell_type": "code",
   "execution_count": null,
   "metadata": {},
   "outputs": [],
   "source": [
    "# Univariate case\n",
    "X = data[:, 0:1]\n",
    "y = data[:, 1]\n",
    "\n",
    "print(X.shape, y.shape)"
   ]
  },
  {
   "cell_type": "markdown",
   "metadata": {},
   "source": [
    "In the multivariate case, we should always standardize the data; in the univariate case, there's usually no need, but in my experience, gradient descent does not perform well on unscaled data, so let's standardize first."
   ]
  },
  {
   "cell_type": "code",
   "execution_count": null,
   "metadata": {},
   "outputs": [],
   "source": [
    "from sklearn.preprocessing import StandardScaler\n",
    "\n",
    "X = StandardScaler().fit_transform(X)"
   ]
  },
  {
   "cell_type": "markdown",
   "metadata": {},
   "source": [
    "## Draw a line\n",
    "\n",
    "If you accept that we want the model that minimizes the mean squared error on the estimates, then you could try to manually fit a line that does this. You could print out the figure above and draw a line with a ruler, then calculate the slope (`w`) and the intercept (`b`).\n",
    "\n",
    "Or you could use this widget:"
   ]
  },
  {
   "cell_type": "code",
   "execution_count": null,
   "metadata": {},
   "outputs": [],
   "source": [
    "import numpy as np\n",
    "import matplotlib.pyplot as plt\n",
    "from ipywidgets import interact\n",
    "\n",
    "X_plt = np.arange(-3, 3, 0.1)\n",
    "y_plt_manual = None\n",
    "\n",
    "@interact(w=(-1000, 1000, 50), b=(0, 3000, 50))\n",
    "def draw(w, b):\n",
    "    global y_plt_manual  # So we can inspect it later.\n",
    "    y_plt_manual = w*X_plt + b\n",
    "    plt.scatter(X[:, 0], y)\n",
    "    plt.plot(X_plt, y_plt_manual, color='orange')\n",
    "    plt.show()"
   ]
  },
  {
   "cell_type": "markdown",
   "metadata": {},
   "source": [
    "## Solve with `sklearn`\n",
    "\n",
    "Okay, but we have a computer, and we'd like something more robust, more reproducible, and less error prone. \n",
    "\n",
    "We love and trust `sklearn` so let's start with that as a sort of baseline."
   ]
  },
  {
   "cell_type": "code",
   "execution_count": 7,
   "metadata": {},
   "outputs": [
    {
     "name": "stdout",
     "output_type": "stream",
     "text": [
      "MSE: 46591.207\n",
      "\n",
      "w = 431.562\n",
      "b = 2188.855\n"
     ]
    }
   ],
   "source": [
    "from sklearn.linear_model import LinearRegression\n",
    "from sklearn.metrics import mean_squared_error\n",
    "\n",
    "model = LinearRegression().fit(X, y)\n",
    "\n",
    "y_pred = model.predict(X)\n",
    "print(f\"MSE: {mean_squared_error(y, y_pred):.3f}\\n\")\n",
    "\n",
    "w, b = model.coef_, model.intercept_\n",
    "\n",
    "print(f\"w = {w[0].item():.3f}\\nb = {b:.3f}\")"
   ]
  },
  {
   "cell_type": "markdown",
   "metadata": {},
   "source": [
    "And plot the data with the model we just discovered:"
   ]
  },
  {
   "cell_type": "code",
   "execution_count": 8,
   "metadata": {},
   "outputs": [
    {
     "data": {
      "image/png": "[encoded data removed]",
      "text/plain": [
       "<Figure size 640x480 with 1 Axes>"
      ]
     },
     "metadata": {},
     "output_type": "display_data"
    }
   ],
   "source": [
    "y_plt_sk = model.coef_[0]*X_plt + model.intercept_\n",
    "\n",
    "plt.scatter(X[:, 0], y) \n",
    "plt.plot(X_plt, y_plt_manual, color='orange', ls='--', label='manual fit')\n",
    "plt.plot(X_plt, y_plt_sk, color='r', label='scikit-learn')\n",
    "plt.legend()\n",
    "plt.show()"
   ]
  },
  {
   "cell_type": "markdown",
   "metadata": {},
   "source": [
    "## Closed form solution: algebra\n",
    "\n",
    "For the univariate case, it's possible to derive equations for the parameters based on the partial derivatives of the loss; the equations have a unique solution (equation 18.3 in _Artificial Intelligence: A Modern Approach_ (3rd ed.) by Stuart Russell and Peter Norvig, Pearson, 2016):\n",
    "\n",
    "$$ w = \\frac{N \\Sigma x_i y_i - \\Sigma x_i \\Sigma y_i}{N \\Sigma x^2_i - (\\Sigma x_i)^2} $$\n",
    "\n",
    "$$ b = \\frac{1}{N} \\Sigma y_i - w \\Sigma x_i $$\n",
    "\n",
    "This is not too hard to compute in NumPy:"
   ]
  },
  {
   "cell_type": "code",
   "execution_count": 9,
   "metadata": {},
   "outputs": [
    {
     "data": {
      "text/plain": [
       "(431.5616664063004, 2188.8553005275007)"
      ]
     },
     "execution_count": 9,
     "metadata": {},
     "output_type": "execute_result"
    }
   ],
   "source": [
    "N = X.shape[0]\n",
    "x = X[:, 0]\n",
    "\n",
    "w = (N * (x*y).sum() - x.sum() * y.sum()) / (N * (x**2).sum() - x.sum()**2)\n",
    "\n",
    "b = (y.sum() - w * x.sum()) / N\n",
    "\n",
    "w, b"
   ]
  },
  {
   "cell_type": "markdown",
   "metadata": {},
   "source": [
    "These match the numbers we got from `sklearn`, so there's not much point in drawing the plot again."
   ]
  },
  {
   "cell_type": "markdown",
   "metadata": {},
   "source": [
    "## Closed form solution: linear algebra\n",
    "\n",
    "There's another analytic way to solve this equation that extends more easily to multivariate datasets (i.e. where `X` has more than one column). In principle, this is much faster and easier to do than gradient descent. In practice, it might be expensive or even intractable, e.g. on very large datasets, or with custom loss functions.\n",
    "\n",
    "We need the so-called [**normal equation**](https://en.wikipedia.org/wiki/Linear_least_squares#Derivation_of_the_normal_equations):\n",
    "\n",
    "$$ \\mathbf{y} = \\mathbf{w}\\mathbf{X} $$\n",
    "\n",
    "We want the weights $\\mathbf{w}$, so:\n",
    "\n",
    "$$ \\mathbf{w} = \\mathbf{X}^{-1}\\mathbf{y} $$\n",
    "\n",
    "The catch is that $\\mathbf{X}^{-1}$ may not be possible to compute, so we have to use [the pseudoinverse](https://en.wikipedia.org/wiki/Moore%E2%80%93Penrose_inverse) of `X`, aka Moore&ndash;Penrose inverse. In our case:\n",
    "\n",
    "$$ \\mathbf{X}^{-1} = (\\mathbf{X}^\\top \\mathbf{X})^{-1} \\mathbf{X}^\\top $$\n",
    "\n",
    "This approach is easier if we add a column of 1's to `X`, and concatenate the weights `w` with the bias `b`, so that we have a single data matrix and a single weight vector. This is sometimes called the **design matrix**:"
   ]
  },
  {
   "cell_type": "code",
   "execution_count": 10,
   "metadata": {},
   "outputs": [
    {
     "data": {
      "text/plain": [
       "array([[-0.97030224,  1.        ],\n",
       "       [-1.03277819,  1.        ],\n",
       "       [-0.52880548,  1.        ],\n",
       "       [-0.76246555,  1.        ],\n",
       "       [ 0.68447761,  1.        ]])"
      ]
     },
     "execution_count": 10,
     "metadata": {},
     "output_type": "execute_result"
    }
   ],
   "source": [
    "N = X.shape[0]\n",
    "X_ = np.c_[X, np.ones((N, 1))]\n",
    "\n",
    "X_[:5]"
   ]
  },
  {
   "cell_type": "markdown",
   "metadata": {},
   "source": [
    "That [`np.c_`](https://numpy.org/doc/stable/reference/generated/numpy.c_.html) implements a concatenation trick. You can also use `np.hstack`.\n",
    "\n",
    "Now we can implement the 'naive' version of the normal equation:"
   ]
  },
  {
   "cell_type": "code",
   "execution_count": 11,
   "metadata": {},
   "outputs": [],
   "source": [
    "np.set_printoptions(suppress=True)"
   ]
  },
  {
   "cell_type": "code",
   "execution_count": 12,
   "metadata": {},
   "outputs": [
    {
     "data": {
      "text/plain": [
       "array([ 431.56166641, 2188.85530053])"
      ]
     },
     "execution_count": 12,
     "metadata": {},
     "output_type": "execute_result"
    }
   ],
   "source": [
    "import numpy.linalg as la\n",
    "\n",
    "X_inv = la.inv(X_.T @ X_) @ X_.T  # The 'pseudoinverse' of X.\n",
    "\n",
    "X_inv @ y"
   ]
  },
  {
   "cell_type": "markdown",
   "metadata": {},
   "source": [
    "The same numbers again: we solved it! Pretty cool. But it can be slow for large datasets and besides it won't always work &mdash; so we need a more robust method.\n",
    "\n",
    "We could use `numpy.linalg.pinv()` to get the pseudoinverse directly..."
   ]
  },
  {
   "cell_type": "code",
   "execution_count": 13,
   "metadata": {},
   "outputs": [
    {
     "data": {
      "text/plain": [
       "array([ 431.56166641, 2188.85530053])"
      ]
     },
     "execution_count": 13,
     "metadata": {},
     "output_type": "execute_result"
    }
   ],
   "source": [
    "la.pinv(X_) @ y"
   ]
  },
  {
   "cell_type": "markdown",
   "metadata": {},
   "source": [
    "... but that's no fun. Let's see what this, and `sklearn` are using internally."
   ]
  },
  {
   "cell_type": "markdown",
   "metadata": {},
   "source": [
    "## Singular value decomposition\n",
    "\n",
    "The above method is computationally expensive (i.e. slow) and won't always work.\n",
    "\n",
    "Internally, `sklearn` uses `scipy.linalg.lstsq()` and this, in turn, uses one of three algorithms in the Fortran library LAPACK (which NumPy depends on): `gelsd`, `gelsy` and `gelss`. Of these, `gelsd` and `gelss` use the singular value decomposition of our matrix `X_`.\n",
    "\n",
    "In brief, we can solve:\n",
    "\n",
    "$$ \\mathbf{w} = \\mathbf{V} \\mathbf{\\Sigma}^{+} \\mathbf{U}^\\top \\, \\mathbf{y} $$\n",
    "\n",
    "[Read more about this.](https://towardsdatascience.com/why-gradient-descent-and-normal-equation-are-bad-for-linear-regression-928f8b32fa4f)\n",
    "\n"
   ]
  },
  {
   "cell_type": "markdown",
   "metadata": {},
   "source": [
    "Here's how this equation looks in NumPy; the only really tricky part is forming $\\Sigma^{+}$:"
   ]
  },
  {
   "cell_type": "code",
   "execution_count": 14,
   "metadata": {},
   "outputs": [
    {
     "data": {
      "text/plain": [
       "array([ 431.56166641, 2188.85530053])"
      ]
     },
     "execution_count": 14,
     "metadata": {},
     "output_type": "execute_result"
    }
   ],
   "source": [
    "U, sigma, VT = la.svd(X_, full_matrices=False)\n",
    "\n",
    "VT.T @ np.diag(1/sigma).T @ U.T @ y"
   ]
  },
  {
   "cell_type": "markdown",
   "metadata": {},
   "source": [
    "---\n",
    "\n",
    "## Gradient descent\n",
    "\n",
    "Let's solve the problem using gradient descent. We clearly don't _need_ gradient descent here, but it's a good optimization method to know about because most problems don't have closed form solutions. In general, if we can form the derivative of the cost function (i.e. it is 'differentiable'), we can use this method.\n",
    "\n",
    "So in order to optimize the weights using gradient descent, we need to know the **gradient** of the **cost function**. The cost $C$ over $N$ samples is given by:\n",
    "\n",
    "$$ C = \\frac{1}{N} \\sum_{i=0}^{N} (\\mathbf{y}_i - \\hat{\\mathbf{y}}_i)^2 $$\n",
    "\n",
    "where the estimate $\\hat{\\mathbf{y}}$ is given by the matrix product of the weights $\\theta$ and the 'augmented' data $\\bar{\\mathbf{X}}$ (the data plus an extra column of ones):\n",
    "\n",
    "$$ \\hat{\\mathbf{y}} = \\mathbf{w} \\mathbf{X} + b = \\theta \\bar{\\mathbf{X}} $$\n",
    "\n",
    "Using this 'combined' weight matrix is easier than dealing with the weights and bias term separately. Note that $\\theta$ is a vector, although it's displayed with an italic character here.\n",
    "\n",
    "#### Chain rule\n",
    "\n",
    "There are 2 functions here: the expression for $C$ and the one for $\\hat{\\mathbf{y}}$. The chain rule tells us how to differentiate a function of a function:\n",
    "\n",
    "$$ \\frac{\\mathrm{d}}{\\mathrm{d}x}\\big[ f(g(x)) \\big] = f^\\prime(g(x))\\ \\times\\ g^\\prime(x) $$\n",
    "\n",
    "Therefore the gradient $g$ is given by:\n",
    "\n",
    "$$ g = \\frac{\\mathrm{d}C}{\\mathrm{d}\\theta} = \\frac{\\mathrm{d}C}{\\mathrm{d}\\hat{\\mathbf{y}}}\\ \\times\\ \\frac{\\mathrm{d}\\hat{\\mathbf{y}}}{\\mathrm{d}\\theta} $$\n",
    "\n",
    "So our problem now looks like this:\n",
    "\n",
    "$$ g = \\frac{2}{N}\\sum_{i=0}^{N} (\\mathbf{y}_i - \\hat{\\mathbf{y}}_i)\\ \\times\\ -\\mathbf{X}_i $$\n",
    "\n",
    "so if the error $\\mathbf{e} = (\\mathbf{y} - \\hat{\\mathbf{y}})$ then:\n",
    "\n",
    "$$ g = -\\frac{2}{N}\\sum_{i=0}^{N} \\mathbf{e}_i \\mathbf{X}_i $$"
   ]
  },
  {
   "cell_type": "code",
   "execution_count": 15,
   "metadata": {},
   "outputs": [
    {
     "name": "stdout",
     "output_type": "stream",
     "text": [
      "       0 5023924.206\n",
      "     500 718852.312\n",
      "    1000 137389.832\n",
      "    1500 58854.880\n",
      "    2000 48247.594\n",
      "    2500 46814.926\n",
      "    3000 46621.424\n",
      "    3500 46595.288\n",
      "    4000 46591.758\n",
      "    4500 46591.282\n",
      "     end 46591.217\n"
     ]
    }
   ],
   "source": [
    "alpha = 1e-3   # This must be tuned to the scale of the input.\n",
    "epochs = 5_000\n",
    "\n",
    "# Initialize.\n",
    "cost_history = []\n",
    "theta = np.zeros(X_.shape[1])\n",
    "\n",
    "for i in range(epochs):\n",
    "    # Make estimate with current weights.\n",
    "    y_hat = theta @ X_.T\n",
    "    \n",
    "    # Compute error and cost.\n",
    "    err = y - y_hat\n",
    "    cost = np.sum(err**2) / N\n",
    "    cost_history.append(cost)\n",
    "    if i % (epochs // 10) == 0:\n",
    "        print(f\"{i:>8d} {cost:.3f}\")\n",
    "        \n",
    "    # Compute gradients (one for each feature).\n",
    "    grad = (-2/N) * np.sum(err[:, None] * X_, axis=0)\n",
    "    \n",
    "    # Adjust weights.\n",
    "    theta -= alpha * grad\n",
    "\n",
    "print(f\"{'end':>8s} {cost:.3f}\")"
   ]
  },
  {
   "cell_type": "code",
   "execution_count": 16,
   "metadata": {},
   "outputs": [
    {
     "data": {
      "image/png": "[encoded data removed]",
      "text/plain": [
       "<Figure size 640x480 with 1 Axes>"
      ]
     },
     "metadata": {},
     "output_type": "display_data"
    }
   ],
   "source": [
    "plt.plot(cost_history)\n",
    "plt.yscale('log')"
   ]
  },
  {
   "cell_type": "markdown",
   "metadata": {},
   "source": [
    "Let's make sure it's similar to what we got before, which was"
   ]
  },
  {
   "cell_type": "code",
   "execution_count": 17,
   "metadata": {},
   "outputs": [
    {
     "data": {
      "text/plain": [
       "(431.5616664063004, 2188.8553005275007)"
      ]
     },
     "execution_count": 17,
     "metadata": {},
     "output_type": "execute_result"
    }
   ],
   "source": [
    "# With SVD...\n",
    "w, b"
   ]
  },
  {
   "cell_type": "code",
   "execution_count": 18,
   "metadata": {},
   "outputs": [
    {
     "data": {
      "text/plain": [
       "array([ 431.54226875, 2188.75691675])"
      ]
     },
     "execution_count": 18,
     "metadata": {},
     "output_type": "execute_result"
    }
   ],
   "source": [
    "# With gradient descent...\n",
    "theta"
   ]
  },
  {
   "cell_type": "markdown",
   "metadata": {},
   "source": [
    "## Stochastic gradient descent\n",
    "\n",
    "Here, we're computing the cost over the entire dataset. In practice, this might not be possible, especially on high-dimensional datasets. We can reduce the computational burden by computing the cost over smaller 'batches'. This is known as 'stochastic gradient descent'. \n",
    "\n",
    "We'll also shuffle the data before each epoch (one epoch is one pass through the entire dataset). This helps to avoid getting stuck in a local minimum, because every time we take a step on the cost surface, we're on a slightly different version of the surface."
   ]
  },
  {
   "cell_type": "code",
   "execution_count": 19,
   "metadata": {},
   "outputs": [
    {
     "name": "stdout",
     "output_type": "stream",
     "text": [
      "       0 4664949.291\n",
      "      50 992912.647\n",
      "     100 222309.973\n",
      "     150 112513.943\n",
      "     200 44707.229\n",
      "     250 29450.188\n",
      "     300 80772.023\n",
      "     350 47068.038\n",
      "     400 59305.019\n",
      "     450 54844.389\n",
      "     end 60063.054\n"
     ]
    }
   ],
   "source": [
    "alpha = 1e-3\n",
    "epochs = 500\n",
    "batch_size = 50\n",
    "\n",
    "splits = np.arange(batch_size, N, batch_size)\n",
    "idx = np.arange(N)\n",
    "\n",
    "# Initialize.\n",
    "cost_history = []\n",
    "theta = np.random.random(X_.shape[1])\n",
    "\n",
    "for i in range(epochs):\n",
    "    \n",
    "    # Shuffle the data.\n",
    "    np.random.shuffle(idx)\n",
    "    X_shuffle = X_[idx]\n",
    "    y_shuffle = y[idx]\n",
    "    X_batches = np.split(X_shuffle, splits)\n",
    "    y_batches = np.split(y_shuffle, splits)\n",
    "\n",
    "    for j, (X_batch, y_batch) in enumerate(zip(X_batches, y_batches)):\n",
    "\n",
    "        # Make estimate with current weights.\n",
    "        y_hat = theta @ X_batch.T\n",
    "\n",
    "        # Compute error and (once per epoch) cost.\n",
    "        err = y_batch - y_hat\n",
    "        \n",
    "        if j == 0:\n",
    "            cost = np.sum(err**2) / batch_size\n",
    "            cost_history.append(cost)\n",
    "\n",
    "        # Compute gradients (one for each feature).\n",
    "        grad = (-2/batch_size) * np.sum(err[:, None] * X_batch, axis=0)\n",
    "\n",
    "        # Adjust weights.\n",
    "        theta -= alpha * grad\n",
    "\n",
    "    if i % (epochs // 10) == 0:\n",
    "        print(f\"{i:>8d} {cost:.3f}\")\n",
    "\n",
    "print(f\"{'end':>8s} {cost:.3f}\")"
   ]
  },
  {
   "cell_type": "code",
   "execution_count": 20,
   "metadata": {},
   "outputs": [
    {
     "data": {
      "image/png": "[encoded data removed]",
      "text/plain": [
       "<Figure size 640x480 with 1 Axes>"
      ]
     },
     "metadata": {},
     "output_type": "display_data"
    }
   ],
   "source": [
    "plt.plot(cost_history)\n",
    "plt.yscale('log')"
   ]
  },
  {
   "cell_type": "markdown",
   "metadata": {},
   "source": [
    "Notice that this converges much faster than using the entire dataset: only 500 epochs, compared to 5000."
   ]
  },
  {
   "cell_type": "code",
   "execution_count": 21,
   "metadata": {},
   "outputs": [
    {
     "data": {
      "text/plain": [
       "array([ 431.41794573, 2188.12743804])"
      ]
     },
     "execution_count": 21,
     "metadata": {},
     "output_type": "execute_result"
    }
   ],
   "source": [
    "theta"
   ]
  },
  {
   "cell_type": "markdown",
   "metadata": {},
   "source": [
    "This compares well with what we got from the SVD method above:"
   ]
  },
  {
   "cell_type": "code",
   "execution_count": 22,
   "metadata": {},
   "outputs": [
    {
     "data": {
      "text/plain": [
       "(431.5616664063004, 2188.8553005275007)"
      ]
     },
     "execution_count": 22,
     "metadata": {},
     "output_type": "execute_result"
    }
   ],
   "source": [
    "w, b"
   ]
  },
  {
   "cell_type": "markdown",
   "metadata": {},
   "source": [
    "And let's check the new parameters against the previous solution:"
   ]
  },
  {
   "cell_type": "code",
   "execution_count": 23,
   "metadata": {},
   "outputs": [
    {
     "data": {
      "image/png": "[encoded data removed]",
      "text/plain": [
       "<Figure size 640x480 with 1 Axes>"
      ]
     },
     "metadata": {},
     "output_type": "display_data"
    }
   ],
   "source": [
    "# Two parameters:\n",
    "w_sgd, b_sgd = theta\n",
    "\n",
    "y_plt = w_sgd*X_plt + b_sgd\n",
    "\n",
    "plt.scatter(X[:, 0], y) \n",
    "plt.plot(X_plt, y_plt_sk, color='r')  # regression line\n",
    "plt.plot(X_plt, y_plt, '--', color='c')  # regression line\n",
    "plt.show()"
   ]
  },
  {
   "cell_type": "markdown",
   "metadata": {},
   "source": [
    "It matches!"
   ]
  },
  {
   "cell_type": "markdown",
   "metadata": {},
   "source": [
    "## Compare with `sklearn`'s own SGD regressor\n",
    "\n",
    "Let's try with [`sklearn.linear_model.SGDRegressor`](https://scikit-learn.org/stable/modules/generated/sklearn.linear_model.SGDRegressor.html), which implements a generic SGD regressor that can solve linear regression (with or without regularization)."
   ]
  },
  {
   "cell_type": "code",
   "execution_count": 24,
   "metadata": {},
   "outputs": [
    {
     "name": "stdout",
     "output_type": "stream",
     "text": [
      "MSE: 46593.118\n",
      "\n",
      "w0 = 430.388\n",
      "b = 2189.586\n"
     ]
    }
   ],
   "source": [
    "from sklearn.linear_model import SGDRegressor\n",
    "\n",
    "model = SGDRegressor(alpha=0).fit(X, y)  # Turn off regularization.\n",
    "\n",
    "y_pred = model.predict(X)\n",
    "print(f\"MSE: {mean_squared_error(y, y_pred):.3f}\\n\")\n",
    "\n",
    "(w,), (b, ) = model.coef_, model.intercept_\n",
    "print(f\"w0 = {w:.3f}\\nb = {b:.3f}\")"
   ]
  },
  {
   "cell_type": "markdown",
   "metadata": {},
   "source": [
    "It matches too!"
   ]
  },
  {
   "cell_type": "markdown",
   "metadata": {},
   "source": [
    "## Bayesian linear regression\n",
    "\n",
    "In general, Bayesian methods try to account for uncertainty by treating everything as a distribution. Correspondingly, instead of finding _best fit_ parameters, a Bayesian approach will yield _posterior distributions_ for our parameters.\n",
    "\n",
    "Broadly, there are two Bayesian approaches: \"maximum likelihood estimation\" (MLE), which is broadly equivalent to ordinary least squares (under the assumption that the data contains Gaussian noise), and \"maximum a posteriori\" (MAP). These approach the problem in different ways:\n",
    "\n",
    "- MLE: How likely is the data, given the parameters?\n",
    "- MAP: How likely are the parameters, given the data?\n",
    "\n",
    "We'll apply MAP here, guided by Chris Bishop's book, _Pattern Recognition and Machine Learning_ (Springer, 2006, [PDF](https://www.microsoft.com/en-us/research/uploads/prod/2006/01/Bishop-Pattern-Recognition-and-Machine-Learning-2006.pdf)), and by [this blog post](https://brunomaga.github.io/Bayesian-Linear-Regression)."
   ]
  },
  {
   "cell_type": "code",
   "execution_count": 25,
   "metadata": {},
   "outputs": [
    {
     "data": {
      "text/plain": [
       "array([ 431.56165971, 2188.85526658])"
      ]
     },
     "execution_count": 25,
     "metadata": {},
     "output_type": "execute_result"
    }
   ],
   "source": [
    "N, M = X_.shape\n",
    "alpha = 1  # Init.\n",
    "beta = 1   # Initialize as 1/variance.\n",
    "mean = np.zeros(M)\n",
    "lamda = 1e-6  # Regularization.\n",
    "\n",
    "snaps = []  # Capture the first guess in each loop.\n",
    "\n",
    "for iteration in range(3):\n",
    "    weights = []\n",
    "    S_0_inv = np.identity(M) / alpha\n",
    "    for i, (xi, yi) in enumerate(zip(X_, y)):\n",
    "\n",
    "        # Update the (inverse) covariance, Bishop's equation 3.51.\n",
    "        S_N_inv = S_0_inv + beta * np.outer(xi, xi)\n",
    "\n",
    "        # Update the mean, Bishop's equation 3.50.\n",
    "        S_N = la.inv(S_N_inv)\n",
    "        mean = S_N @ (S_0_inv @ mean + beta * xi * yi)\n",
    "        S_0_inv = S_N_inv\n",
    "\n",
    "        weights.append((mean, S_N_inv))\n",
    "        \n",
    "        # Snapshot early iterations for plotting later.\n",
    "        if iteration == 0 and i % 10 == 0:\n",
    "            snaps.append((i, ) + weights[-1])\n",
    "\n",
    "# Final coefficients:\n",
    "weights[-1][0]"
   ]
  },
  {
   "cell_type": "markdown",
   "metadata": {},
   "source": [
    "As we step over the early data points, there are dramatic updates to the weights. "
   ]
  },
  {
   "cell_type": "code",
   "execution_count": 26,
   "metadata": {},
   "outputs": [
    {
     "data": {
      "image/png": "[encoded data removed]",
      "text/plain": [
       "<Figure size 1500x500 with 5 Axes>"
      ]
     },
     "metadata": {},
     "output_type": "display_data"
    }
   ],
   "source": [
    "from scipy import stats\n",
    "\n",
    "fig, axs = plt.subplots(ncols=5, sharey=True, figsize=(15, 5))\n",
    "\n",
    "for ax, (i, mean, S_N_inv) in zip(axs, snaps[:5]):\n",
    "\n",
    "    S_N = np.linalg.inv(S_N_inv)\n",
    "    dist = stats.multivariate_normal(mean=mean, cov=S_N_inv)\n",
    "\n",
    "    w = np.linspace(-1000, 1000, 100)\n",
    "    b = np.linspace(-1000, 3000, 100)\n",
    "    W = np.dstack(np.meshgrid(w, b))\n",
    "    pdf = dist.pdf(W)\n",
    "\n",
    "    im = ax.imshow(pdf**0.0025, origin='lower',\n",
    "                   extent=[-1000, 1000, -1000, 3000],\n",
    "                  )\n",
    "    ax.scatter(*weights[-1][0], marker='x', c='w')\n",
    "    ax.set_title(f'{i+1} points')"
   ]
  },
  {
   "cell_type": "markdown",
   "metadata": {},
   "source": [
    "The resulting model is comparable to the one we found with `sklearn`:"
   ]
  },
  {
   "cell_type": "code",
   "execution_count": 27,
   "metadata": {},
   "outputs": [
    {
     "data": {
      "image/png": "[encoded data removed]",
      "text/plain": [
       "<Figure size 640x480 with 1 Axes>"
      ]
     },
     "metadata": {},
     "output_type": "display_data"
    }
   ],
   "source": [
    "w, b = weights[-1][0]\n",
    "y_plt = w*X_plt + b\n",
    "\n",
    "plt.scatter(X[:, 0], y) \n",
    "plt.plot(X_plt, y_plt_sk, color='r')  # regression line\n",
    "plt.plot(X_plt, y_plt, '--', color='c')  # regression line\n",
    "plt.show()"
   ]
  },
  {
   "cell_type": "markdown",
   "metadata": {},
   "source": [
    "They match! Nice."
   ]
  },
  {
   "cell_type": "markdown",
   "metadata": {},
   "source": [
    "## Simulated annealing\n",
    "\n",
    "From [this Cross Validated post](https://stats.stackexchange.com/a/340687/74162):\n",
    "\n",
    "> Simulated annealing's fundamental mechanism is to compare the current state with a proposed state, then (probabilistically) decide whether to move to the proposed state or not.\n",
    "\n",
    "The same post has some R code, translated to Python below. It's not very sophisticated (e.g., no guesstimate of the required `scale` hyperparameter, and no early stopping), but it gets the job done."
   ]
  },
  {
   "cell_type": "code",
   "execution_count": 28,
   "metadata": {},
   "outputs": [],
   "source": [
    "from scipy.stats import t\n",
    "\n",
    "\n",
    "def mean_squared_error(X, y, w):\n",
    "    \"\"\"Mean square error for a given guess.\"\"\"\n",
    "    degrees_of_freedom = len(y)\n",
    "    y_hat = X @ w.reshape(-1, 1)\n",
    "    return np.sum((y - y_hat.T)**2) / degrees_of_freedom\n",
    "\n",
    "\n",
    "def simulated_annealing(X, y, scale=1, max_iter=1000, step=0.05):\n",
    "    \"\"\"\n",
    "    Implements simple simulated annealing algorithm.\n",
    "    Starting from: https://stats.stackexchange.com/a/340687/74162\n",
    "    \"\"\"\n",
    "    # Initialize everything.\n",
    "    rng = np.random.default_rng(42)\n",
    "    k_best = 1\n",
    "    temp = 1\n",
    "    w = w_best = np.ones(X.shape[-1])\n",
    "    mse = mse_best = mean_squared_error(X, y, w)\n",
    "\n",
    "    for k in range(max_iter):\n",
    "        \n",
    "        # Update the scaling factor to control learning rate.\n",
    "        temp *= (1 - step)\n",
    "        \n",
    "        # Make and score a new proposal.\n",
    "        w_prop = t.rvs(size=2, df=3, loc=w, scale=scale)\n",
    "        mse_prop = mean_squared_error(X, y, w_prop)\n",
    "        test = np.exp(-(mse_prop - mse) / temp)\n",
    "        \n",
    "        # Use the test, and a random element, to decide\n",
    "        # if we're updating or not.\n",
    "        if (mse_prop < mse) or (rng.uniform(0, 1) < test):\n",
    "            w = w_prop\n",
    "            mse = mse_prop\n",
    "            \n",
    "            if mse_prop < mse_best:\n",
    "                w_best = w\n",
    "                mse_best = mse\n",
    "\n",
    "    return w_best"
   ]
  },
  {
   "cell_type": "code",
   "execution_count": 29,
   "metadata": {},
   "outputs": [
    {
     "name": "stderr",
     "output_type": "stream",
     "text": [
      "/tmp/ipykernel_294098/3801482789.py:31: RuntimeWarning: overflow encountered in exp\n",
      "  test = np.exp(-(mse_prop - mse) / temp)\n"
     ]
    },
    {
     "data": {
      "text/plain": [
       "array([ 431.55809991, 2189.1815819 ])"
      ]
     },
     "execution_count": 29,
     "metadata": {},
     "output_type": "execute_result"
    }
   ],
   "source": [
    "simulated_annealing(X_, y, scale=10, max_iter=2000)"
   ]
  },
  {
   "cell_type": "markdown",
   "metadata": {},
   "source": [
    "Ah, the familiar parameters, very cool. \n",
    "\n",
    "There's a simulated annealing algorithm in `scipy` too. It's more sophisticated than the algorithm implemented above, but of course yields roughly the same parameters. [Read about it.](https://docs.scipy.org/doc/scipy/reference/generated/scipy.optimize.dual_annealing.html)"
   ]
  },
  {
   "cell_type": "code",
   "execution_count": 31,
   "metadata": {},
   "outputs": [
    {
     "data": {
      "text/plain": [
       "array([ 431.561584  , 2188.85511069])"
      ]
     },
     "execution_count": 31,
     "metadata": {},
     "output_type": "execute_result"
    }
   ],
   "source": [
    "from scipy.optimize import dual_annealing\n",
    "\n",
    "def sum_squares(w, X, y):\n",
    "    \"\"\"\n",
    "    The function providing the cost. `w` contains the parameters.\n",
    "    \"\"\"\n",
    "    y_hat = X @ w\n",
    "    return np.sum((y - y_hat)**2)\n",
    "\n",
    "bounds = [(-1e4, 1e4), (-1e4, 1e4)]\n",
    "result = dual_annealing(sum_squares, bounds, args=(X_, y))\n",
    "result.x"
   ]
  },
  {
   "cell_type": "markdown",
   "metadata": {},
   "source": [
    "## Differential evolution\n",
    "\n",
    "Rather than implementing more stochastic optimizers ourselves, let's have a look in the `scipy.optimize` module. In there, apart from linear least squares and simulated annealing, anod some other exotic solvers, we'll find [differential evolution](https://docs.scipy.org/doc/scipy/reference/generated/scipy.optimize.differential_evolution.html)."
   ]
  },
  {
   "cell_type": "code",
   "execution_count": 32,
   "metadata": {},
   "outputs": [
    {
     "data": {
      "text/plain": [
       "array([ 431.56209855, 2188.85513769])"
      ]
     },
     "execution_count": 32,
     "metadata": {},
     "output_type": "execute_result"
    }
   ],
   "source": [
    "from scipy.optimize import differential_evolution\n",
    "\n",
    "bounds = [(-1e4, 1e4), (-1e4, 1e4)]\n",
    "result = differential_evolution(sum_squares, bounds, args=(X_, y))\n",
    "result.x"
   ]
  },
  {
   "cell_type": "markdown",
   "metadata": {},
   "source": [
    "It works, sweet.\n",
    "\n",
    "Other stochastic optimizers include particle swarms (e.g. see [PySwarms](https://pyswarms.readthedocs.io/en/latest/)) and genetic algorithms. [There are lots](https://en.wikipedia.org/wiki/Evolutionary_algorithm) of related algorithms. Thanks to Leo Cahya Dinendra for suggesting I add some to this notebook."
   ]
  },
  {
   "cell_type": "markdown",
   "metadata": {},
   "source": [
    "## More...\n",
    "\n",
    "- You should dig around some more in [`scipy.optimize`](https://docs.scipy.org/doc/scipy/reference/generated/scipy.optimize.curve_fit.html), it's fast.\n",
    "- Take a look at [`statsmodels`](https://www.statsmodels.org/dev/generated/statsmodels.regression.linear_model.OLS.html) too, it's also fast.\n",
    "- Check out [`pylops`](https://pylops.readthedocs.io/en/latest/gallery/plot_linearregr.html) for linear operators.\n"
   ]
  },
  {
   "cell_type": "markdown",
   "metadata": {},
   "source": [
    "----\n",
    "\n",
    "&copy; 2023 Matt Hall / [https://github.com/kwinkunks](https://github.com/kwinkunks) / MIT licence"
   ]
  }
 ],
 "metadata": {
  "kernelspec": {
   "display_name": "py311",
   "language": "python",
   "name": "py311"
  },
  "language_info": {
   "codemirror_mode": {
    "name": "ipython",
    "version": 3
   },
   "file_extension": ".py",
   "mimetype": "text/x-python",
   "name": "python",
   "nbconvert_exporter": "python",
   "pygments_lexer": "ipython3",
   "version": "3.11.6"
  }
 },
 "nbformat": 4,
 "nbformat_minor": 4
}
