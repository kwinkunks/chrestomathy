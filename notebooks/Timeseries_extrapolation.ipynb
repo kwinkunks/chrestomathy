{
 "cells": [
  {
   "cell_type": "markdown",
   "id": "xG-ajGsYebfN",
   "metadata": {
    "id": "xG-ajGsYebfN"
   },
   "source": [
    "# Timeseries extrapolation\n",
    "\n",
    "I made this notebook after working on [Advent of Code 2023, Day 9](https://adventofcode.com/2023/day/9).\n",
    "\n",
    "The puzzle is about finding differences of differences of differences, but then also extrapolating first left, then right.\n",
    "\n",
    "[Here's](https://github.com/kwinkunks/aoc23/blob/main/day09.py) how I solved the puzzle at the time. But recursion is much prettier.\n",
    "\n",
    "We'll also solve the extrapolation problem with statistical methods instead.\n",
    "\n",
    "First, here's the test data and the expected results."
   ]
  },
  {
   "cell_type": "code",
   "execution_count": 1,
   "id": "9c5f6ab0",
   "metadata": {
    "colab": {
     "base_uri": "https://localhost:8080/"
    },
    "id": "9c5f6ab0",
    "outputId": "cdd8abe3-e01c-4be6-e1e5-363437840cb9"
   },
   "outputs": [
    {
     "data": {
      "text/plain": [
       "array([[ 0,  3,  6,  9, 12, 15],\n",
       "       [ 1,  3,  6, 10, 15, 21],\n",
       "       [10, 13, 16, 21, 30, 45]])"
      ]
     },
     "execution_count": 1,
     "metadata": {},
     "output_type": "execute_result"
    }
   ],
   "source": [
    "import numpy as np\n",
    "\n",
    "test_data = \"\"\"0 3 6 9 12 15\n",
    "1 3 6 10 15 21\n",
    "10 13 16 21 30 45\"\"\"\n",
    "\n",
    "y = [18, 28, 68]\n",
    "\n",
    "X = np.array(list(map(int, test_data.split()))).reshape(3, -1)\n",
    "X"
   ]
  },
  {
   "cell_type": "markdown",
   "id": "ddccfc8f-7a57-460f-befe-644e3175632c",
   "metadata": {},
   "source": [
    "---\n",
    "\n",
    "## Naive approach\n",
    "\n",
    "We can compute the chain of differences, a bit like Pascal's triangle but with subtraction instead of addition. This was my solution to the Advent of Code puzzle. "
   ]
  },
  {
   "cell_type": "code",
   "execution_count": 10,
   "id": "617d15fe-a3c2-457f-a31b-c26674429d9b",
   "metadata": {},
   "outputs": [
    {
     "data": {
      "text/plain": [
       "[np.int64(18), np.int64(28), np.int64(68)]"
      ]
     },
     "execution_count": 10,
     "metadata": {},
     "output_type": "execute_result"
    }
   ],
   "source": [
    "from typing import Callable\n",
    "\n",
    "def predict(history: list[int],\n",
    "            prequel: bool=False,\n",
    "            f: Callable=sum\n",
    "    ) -> int:\n",
    "    \"f is cumulating function\"\n",
    "    X = [history[prequel-1]]\n",
    "    while True:\n",
    "        history = [j - i for i, j in zip(history, history[1:])]\n",
    "        if not any(history): break\n",
    "        X.append(history[prequel-1])\n",
    "    return f(X)\n",
    "\n",
    "list(map(predict, X))"
   ]
  },
  {
   "cell_type": "markdown",
   "id": "c450b45d-4432-4c77-b50c-abec35c25c95",
   "metadata": {},
   "source": [
    "### Recursive version\n",
    "\n",
    "Compute the differences, as in the puzzle description, but do it recursively."
   ]
  },
  {
   "cell_type": "code",
   "execution_count": 11,
   "id": "a5d4a580-5de6-475c-a953-144605fa42a9",
   "metadata": {},
   "outputs": [
    {
     "data": {
      "text/plain": [
       "[np.int64(18), np.int64(28), np.int64(68)]"
      ]
     },
     "execution_count": 11,
     "metadata": {},
     "output_type": "execute_result"
    }
   ],
   "source": [
    "def extrapolate(l):\n",
    "    diffs = [b - a for a, b in zip(l, l[1:])]\n",
    "    return l[-1] + extrapolate(diffs) if len(l) else 0\n",
    "\n",
    "list(map(extrapolate, X))"
   ]
  },
  {
   "cell_type": "markdown",
   "id": "TlU1Fh9yfsLm",
   "metadata": {
    "id": "TlU1Fh9yfsLm"
   },
   "source": [
    "---\n",
    "\n",
    "## Pure autoregression\n",
    "\n",
    "I don't have good intuition for why this is so approximate."
   ]
  },
  {
   "cell_type": "code",
   "execution_count": 14,
   "id": "395dbac3",
   "metadata": {
    "colab": {
     "base_uri": "https://localhost:8080/"
    },
    "id": "395dbac3",
    "outputId": "01acd4ef-bd5b-4b0d-8b16-221299052918"
   },
   "outputs": [
    {
     "name": "stdout",
     "output_type": "stream",
     "text": [
      "[18.]\n",
      "[28.88888889]\n",
      "[69.34146341]\n"
     ]
    }
   ],
   "source": [
    "import statsmodels.tsa.api as sm\n",
    "\n",
    "for xi in X:\n",
    "    model = sm.AutoReg(xi, lags=1).fit()\n",
    "    yhat = model.predict(xi.size, xi.size)\n",
    "    print(yhat)"
   ]
  },
  {
   "cell_type": "markdown",
   "id": "15650661",
   "metadata": {
    "id": "15650661"
   },
   "source": [
    "---\n",
    "\n",
    "## ARIMA\n",
    "\n",
    "- **AR** - autoregression\n",
    "- **I** - integrated (differences)\n",
    "- **MA** - moving average\n",
    "\n",
    "Read about it [on Wikipedia](https://en.wikipedia.org/wiki/Autoregressive_integrated_moving_average). It works nicely here..."
   ]
  },
  {
   "cell_type": "code",
   "execution_count": 17,
   "id": "ce549724",
   "metadata": {
    "colab": {
     "base_uri": "https://localhost:8080/"
    },
    "id": "ce549724",
    "outputId": "d3d7247d-b62b-4aaf-c032-10d4ed22c3b8"
   },
   "outputs": [
    {
     "name": "stdout",
     "output_type": "stream",
     "text": [
      "[array([18.]), array([28.]), array([68.])]\n"
     ]
    }
   ],
   "source": [
    "extra = []\n",
    "for xi in X:\n",
    "    model = sm.ARIMA(xi, order=(0, 6, 0)).fit()\n",
    "    yhat = model.predict(xi.size, xi.size)\n",
    "    extra.append(yhat)\n",
    "\n",
    "print(extra)"
   ]
  },
  {
   "cell_type": "markdown",
   "id": "NcDuK-Tpf3yp",
   "metadata": {
    "id": "NcDuK-Tpf3yp"
   },
   "source": [
    "### ARIMA backwards (i.e. to the left, back in time)"
   ]
  },
  {
   "cell_type": "code",
   "execution_count": null,
   "id": "c020222d",
   "metadata": {
    "colab": {
     "base_uri": "https://localhost:8080/"
    },
    "id": "c020222d",
    "outputId": "03f4c756-26a5-40e1-ede2-026ce15496e2"
   },
   "outputs": [
    {
     "name": "stdout",
     "output_type": "stream",
     "text": [
      "[array([-3.]), array([-3.24131915e-11]), array([5.])]\n"
     ]
    },
    {
     "data": {
      "text/plain": [
       "array([2.])"
      ]
     },
     "execution_count": 4,
     "metadata": {},
     "output_type": "execute_result"
    }
   ],
   "source": [
    "extra = []\n",
    "for xi in X:\n",
    "    model = sm.ARIMA(xi[::-1], order=(0, 6, 0)).fit()\n",
    "    yhat = model.predict(xi.size, xi.size)\n",
    "    extra.append(yhat)\n",
    "\n",
    "print(extra)\n",
    "sum(extra)"
   ]
  },
  {
   "cell_type": "markdown",
   "id": "LMuAsMgLgKT9",
   "metadata": {
    "id": "LMuAsMgLgKT9"
   },
   "source": [
    "---\n",
    "\n",
    "## Finite difference\n",
    "\n",
    "Turns out finite differences can be computed using only coefficients and the dot product. Amazing and basically magic."
   ]
  },
  {
   "cell_type": "code",
   "execution_count": null,
   "id": "wGNVbSwNgK8a",
   "metadata": {
    "colab": {
     "base_uri": "https://localhost:8080/"
    },
    "id": "wGNVbSwNgK8a",
    "outputId": "00b6f061-a62c-4743-e07c-fd1ae85184ed"
   },
   "outputs": [
    {
     "data": {
      "text/plain": [
       "array([18, 28, 68])"
      ]
     },
     "execution_count": 5,
     "metadata": {},
     "output_type": "execute_result"
    }
   ],
   "source": [
    "w = [-1, 6, -15, 20, -15, 6]\n",
    "\n",
    "X @ w"
   ]
  },
  {
   "cell_type": "markdown",
   "id": "0095d842-ca3d-493c-8412-501a3395c444",
   "metadata": {},
   "source": [
    "Those weights must be computed, for example with [Bengt Fornberg's algorithm](https://gist.github.com/kwinkunks/6401dd08444da97331ad0188501be957). See Fornberg, B (1988). Generation of Finite Difference Formulas on Arbitrarily Spaced Grids, Mathematics of Compuation 51 (184), p 699-706, doi: 10.1090/S0025-5718-1988-0935077-0. Here's my implementation:"
   ]
  },
  {
   "cell_type": "code",
   "execution_count": 19,
   "id": "wkszgZPE7GAl",
   "metadata": {
    "id": "wkszgZPE7GAl"
   },
   "outputs": [],
   "source": [
    "def weights(z, x, m=0):\n",
    "    \"\"\"\n",
    "    Fornberg finite difference weights.\n",
    "    F90: https://github.com/bjodah/finitediff/blob/master/src/finitediff_fort.f90\n",
    "\n",
    "    Arguments:\n",
    "        z: location where approximations are to be accurate\n",
    "        x: grid point locations, found in x(0:n)\n",
    "        m: highest derivative for which weights are sought\n",
    "\n",
    "    Returns:\n",
    "        array\n",
    "\n",
    "    References:\n",
    "        B Fornberg (1988). Generation of Finite Difference Formulas on\n",
    "            Arbitrarily Spaced Grids, Mathematics of Computation 51 (184),\n",
    "            p 699-706, doi: 10.1090/S0025-5718-1988-0935077-0.\n",
    "\n",
    "    Example:\n",
    "        >>> weights(6, range(6), 0)\n",
    "        array([[ -1],\n",
    "               [  6],\n",
    "               [-15],\n",
    "               [ 20],\n",
    "               [-15],\n",
    "               [  6]])\n",
    "    \"\"\"\n",
    "    n = len(x) - 1\n",
    "    c = np.zeros((n+1, m+1))\n",
    "    c1 = 1\n",
    "    c4 = x[0] - z\n",
    "    c[0, 0] = 1\n",
    "\n",
    "    for i in range(1, n+1):\n",
    "        mn = min(i, m)\n",
    "        c2 = 1\n",
    "        c5 = c4\n",
    "        c4 = x[i] - z\n",
    "        for j in range(i):\n",
    "            c3 = x[i] - x[j]\n",
    "            c2 *= c3\n",
    "            if j == i - 1:\n",
    "                for k in range(mn, 0, -1):\n",
    "                    c[i, k] = c1 * (k * c[i-1, k-1] - c5 * c[i-1, k]) / c2\n",
    "                c[i, 0] = -c1 * c5 * c[i-1, 0] / c2\n",
    "            for k in range(mn, 0, -1):\n",
    "                c[j, k] = (c4 * c[j, k] - k * c[j, k-1]) / c3\n",
    "            c[j, 0] = c4 * c[j, 0] / c3\n",
    "        c1 = c2\n",
    "\n",
    "    return c.astype(int)"
   ]
  },
  {
   "cell_type": "code",
   "execution_count": 20,
   "id": "a9bbae6d-6517-422d-a96e-1510f582a586",
   "metadata": {},
   "outputs": [
    {
     "data": {
      "text/plain": [
       "array([[ -1],\n",
       "       [  6],\n",
       "       [-15],\n",
       "       [ 20],\n",
       "       [-15],\n",
       "       [  6]])"
      ]
     },
     "execution_count": 20,
     "metadata": {},
     "output_type": "execute_result"
    }
   ],
   "source": [
    "weights(6, range(6), 0)"
   ]
  },
  {
   "cell_type": "markdown",
   "id": "42842642-b6f9-4cb6-86c1-fabeb8346bc8",
   "metadata": {},
   "source": [
    "---\n",
    "\n",
    "&copy; 2024 Matt Hall, licensed CC BY, please re-use this work."
   ]
  }
 ],
 "metadata": {
  "colab": {
   "provenance": []
  },
  "kernelspec": {
   "display_name": "py310",
   "language": "python",
   "name": "py310"
  },
  "language_info": {
   "codemirror_mode": {
    "name": "ipython",
    "version": 3
   },
   "file_extension": ".py",
   "mimetype": "text/x-python",
   "name": "python",
   "nbconvert_exporter": "python",
   "pygments_lexer": "ipython3",
   "version": "3.10.14"
  }
 },
 "nbformat": 4,
 "nbformat_minor": 5
}
